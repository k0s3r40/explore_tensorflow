{
 "cells": [
  {
   "cell_type": "markdown",
   "id": "017902e6-2970-457c-8ac1-faea7e422ac0",
   "metadata": {},
   "source": [
    "<h1>Import packages</h1>"
   ]
  },
  {
   "cell_type": "code",
   "execution_count": 1,
   "id": "453246f3-18bf-432c-853e-732f207aadac",
   "metadata": {},
   "outputs": [
    {
     "name": "stdout",
     "output_type": "stream",
     "text": [
      "Tensorflow version: 2.15.0\n"
     ]
    }
   ],
   "source": [
    "import os \n",
    "import matplotlib.pyplot as plt\n",
    "os.environ['TF_CPP_MIN_LOG_LEVEL'] = '3'\n",
    "import tensorflow as tf\n",
    "print(\"Tensorflow version: %s\"%tf.__version__)"
   ]
  },
  {
   "cell_type": "markdown",
   "id": "c5b99121-3dc8-49ff-9c01-8c3a635b8a95",
   "metadata": {},
   "source": [
    "<p>Test available GPUs</p>"
   ]
  },
  {
   "cell_type": "code",
   "execution_count": 2,
   "id": "469daed3-92a6-4ff1-b69b-6ab49b8918c0",
   "metadata": {},
   "outputs": [
    {
     "name": "stdout",
     "output_type": "stream",
     "text": [
      "Num GPUs Available:  1\n",
      "Default GPU Device: /device:GPU:0\n"
     ]
    }
   ],
   "source": [
    "print(\"Num GPUs Available: \", len(tf.config.list_physical_devices('GPU')))\n",
    "if tf.test.gpu_device_name():\n",
    "    print('Default GPU Device: {}'.format(tf.test.gpu_device_name()))\n",
    "else:\n",
    "    print(\"Please install GPU version of TF\")"
   ]
  },
  {
   "cell_type": "code",
   "execution_count": 3,
   "id": "a2d2fb59-d373-42ea-a705-c9a2968f840c",
   "metadata": {},
   "outputs": [],
   "source": [
    "mnist = tf.keras.datasets.mnist\n",
    "(x_train, y_train), (x_test, y_test) = mnist.load_data()\n"
   ]
  },
  {
   "cell_type": "code",
   "execution_count": 4,
   "id": "39306b35-4bde-4e4c-b5f5-907faef14a54",
   "metadata": {},
   "outputs": [
    {
     "data": {
      "text/plain": [
       "[]"
      ]
     },
     "execution_count": 4,
     "metadata": {},
     "output_type": "execute_result"
    },
    {
     "data": {
      "image/png": "[encoded data removed]",
      "text/plain": [
       "<Figure size 640x480 with 1 Axes>"
      ]
     },
     "metadata": {},
     "output_type": "display_data"
    }
   ],
   "source": [
    "plt.imshow(x_train[0], cmap = plt.cm.binary)\n",
    "plt.plot()"
   ]
  },
  {
   "cell_type": "markdown",
   "id": "a01827e1-f458-42e1-9fc3-ae5c62048afe",
   "metadata": {},
   "source": [
    "<p>Normalize the data</p>"
   ]
  },
  {
   "cell_type": "code",
   "execution_count": 5,
   "id": "093ddfdc-884d-472e-95f3-5533c1426b69",
   "metadata": {},
   "outputs": [],
   "source": [
    "x_train = tf.keras.utils.normalize(x_train, axis=1)\n",
    "x_test = tf.keras.utils.normalize(x_test, axis=1)"
   ]
  },
  {
   "cell_type": "code",
   "execution_count": 6,
   "id": "2c6a101d-6ddd-406f-bb55-83aa25f0250f",
   "metadata": {},
   "outputs": [
    {
     "data": {
      "text/plain": [
       "[]"
      ]
     },
     "execution_count": 6,
     "metadata": {},
     "output_type": "execute_result"
    },
    {
     "data": {
      "image/png": "[encoded data removed]",
      "text/plain": [
       "<Figure size 640x480 with 1 Axes>"
      ]
     },
     "metadata": {},
     "output_type": "display_data"
    }
   ],
   "source": [
    "plt.imshow(x_train[0], cmap = plt.cm.binary)\n",
    "plt.plot()"
   ]
  },
  {
   "cell_type": "code",
   "execution_count": 7,
   "id": "56a756da-9d2a-4619-abf6-85f7e504b5d5",
   "metadata": {},
   "outputs": [
    {
     "data": {
      "text/plain": [
       "28"
      ]
     },
     "execution_count": 7,
     "metadata": {},
     "output_type": "execute_result"
    }
   ],
   "source": [
    "len(x_train[0])"
   ]
  },
  {
   "cell_type": "markdown",
   "id": "b529609f-6d5d-4eda-9615-7a5f99cf93e2",
   "metadata": {},
   "source": [
    "<h3>Define the model</h3>"
   ]
  },
  {
   "cell_type": "code",
   "execution_count": 8,
   "id": "535a5ccd-da22-454f-870e-5692a2552214",
   "metadata": {},
   "outputs": [],
   "source": [
    "model = tf.keras.models.Sequential() # <- Feed forward model accepts an array\n",
    "model.add(tf.keras.layers.Flatten()) # <- Make it 1d numpy reshape to 1d\n",
    "model.add(tf.keras.layers.Dense(128, activation=tf.nn.relu)) # <- Rectified linear\n",
    "model.add(tf.keras.layers.Dense(10, activation=tf.nn.softmax)) # <- Output layer with 10 neurons (we have 10 possible outputs) probability softmax \n"
   ]
  },
  {
   "cell_type": "markdown",
   "id": "412070cb-3d9e-4da2-852a-e11f23896b51",
   "metadata": {},
   "source": [
    "<h3>Add parameters for the training of the model</h3>"
   ]
  },
  {
   "cell_type": "code",
   "execution_count": 9,
   "id": "59dbb8a3-af9b-453c-82cc-b75241a21f2c",
   "metadata": {},
   "outputs": [],
   "source": [
    "model.compile(\n",
    "    optimizer='adam', # Rectified linear (default goto) there are about 10 in keras\n",
    "    loss= tf.keras.losses.SparseCategoricalCrossentropy(), #How we calculate the loss,\n",
    "    metrics=['accuracy']\n",
    ")"
   ]
  },
  {
   "cell_type": "markdown",
   "id": "1a29e983-2563-415b-8d4d-41377ff1c22f",
   "metadata": {},
   "source": [
    "<h3>Train the model</h3>"
   ]
  },
  {
   "cell_type": "code",
   "execution_count": 10,
   "id": "607308f2-01fe-4adb-a3af-85c64580230a",
   "metadata": {},
   "outputs": [
    {
     "name": "stdout",
     "output_type": "stream",
     "text": [
      "Epoch 1/5\n",
      "   1/1875 [..............................] - ETA: 37:49 - loss: 2.2861 - accuracy: 0.0625"
     ]
    },
    {
     "name": "stderr",
     "output_type": "stream",
     "text": [
      "WARNING: All log messages before absl::InitializeLog() is called are written to STDERR\n",
      "I0000 00:00:1705007971.506447   14069 device_compiler.h:186] Compiled cluster using XLA!  This line is logged at most once for the lifetime of the process.\n"
     ]
    },
    {
     "name": "stdout",
     "output_type": "stream",
     "text": [
      "1875/1875 [==============================] - 5s 2ms/step - loss: 0.3118 - accuracy: 0.9133\n",
      "Epoch 2/5\n",
      "1875/1875 [==============================] - 3s 2ms/step - loss: 0.1459 - accuracy: 0.9569\n",
      "Epoch 3/5\n",
      "1875/1875 [==============================] - 4s 2ms/step - loss: 0.1007 - accuracy: 0.9701\n",
      "Epoch 4/5\n",
      "1875/1875 [==============================] - 4s 2ms/step - loss: 0.0769 - accuracy: 0.9769\n",
      "Epoch 5/5\n",
      "1875/1875 [==============================] - 4s 2ms/step - loss: 0.0588 - accuracy: 0.9825\n"
     ]
    },
    {
     "data": {
      "text/plain": [
       "<keras.src.callbacks.History at 0x7fd8f074f8d0>"
      ]
     },
     "execution_count": 10,
     "metadata": {},
     "output_type": "execute_result"
    }
   ],
   "source": [
    "model.fit(x_train, y_train, epochs=5)"
   ]
  },
  {
   "cell_type": "markdown",
   "id": "5a3f5aae-1977-42a4-a959-251412d1d343",
   "metadata": {},
   "source": [
    "<h3>Evaluate the model</h3>"
   ]
  },
  {
   "cell_type": "code",
   "execution_count": 11,
   "id": "24559dba-4f05-4cbe-bb58-e9b5fcd7fec7",
   "metadata": {},
   "outputs": [
    {
     "name": "stdout",
     "output_type": "stream",
     "text": [
      "313/313 [==============================] - 0s 1ms/step - loss: 0.0987 - accuracy: 0.9701\n",
      "0.09874969720840454 0.9700999855995178\n"
     ]
    }
   ],
   "source": [
    "val_loss, val_acc = model.evaluate(x_test, y_test)\n",
    "print(val_loss, val_acc)"
   ]
  },
  {
   "cell_type": "markdown",
   "id": "8c7e9676-7bd5-450a-b877-239645ed8164",
   "metadata": {},
   "source": [
    "<h3>Save the model</h3>"
   ]
  },
  {
   "cell_type": "code",
   "execution_count": 12,
   "id": "2731c092-3d27-4179-a04a-0f27f3160396",
   "metadata": {},
   "outputs": [
    {
     "name": "stdout",
     "output_type": "stream",
     "text": [
      "INFO:tensorflow:Unsupported signature for serialization: ((TensorSpec(shape=(784, 128), dtype=tf.float32, name='gradient'), <tensorflow.python.framework.func_graph.UnknownArgument object at 0x7fd8f07337d0>, 140568542942896), {}).\n"
     ]
    },
    {
     "name": "stderr",
     "output_type": "stream",
     "text": [
      "INFO:tensorflow:Unsupported signature for serialization: ((TensorSpec(shape=(784, 128), dtype=tf.float32, name='gradient'), <tensorflow.python.framework.func_graph.UnknownArgument object at 0x7fd8f07337d0>, 140568542942896), {}).\n"
     ]
    },
    {
     "name": "stdout",
     "output_type": "stream",
     "text": [
      "INFO:tensorflow:Unsupported signature for serialization: ((TensorSpec(shape=(128,), dtype=tf.float32, name='gradient'), <tensorflow.python.framework.func_graph.UnknownArgument object at 0x7fd8f0731310>, 140569724008304), {}).\n"
     ]
    },
    {
     "name": "stderr",
     "output_type": "stream",
     "text": [
      "INFO:tensorflow:Unsupported signature for serialization: ((TensorSpec(shape=(128,), dtype=tf.float32, name='gradient'), <tensorflow.python.framework.func_graph.UnknownArgument object at 0x7fd8f0731310>, 140569724008304), {}).\n"
     ]
    },
    {
     "name": "stdout",
     "output_type": "stream",
     "text": [
      "INFO:tensorflow:Unsupported signature for serialization: ((TensorSpec(shape=(128, 10), dtype=tf.float32, name='gradient'), <tensorflow.python.framework.func_graph.UnknownArgument object at 0x7fd8aa1bd790>, 140568543029456), {}).\n"
     ]
    },
    {
     "name": "stderr",
     "output_type": "stream",
     "text": [
      "INFO:tensorflow:Unsupported signature for serialization: ((TensorSpec(shape=(128, 10), dtype=tf.float32, name='gradient'), <tensorflow.python.framework.func_graph.UnknownArgument object at 0x7fd8aa1bd790>, 140568543029456), {}).\n"
     ]
    },
    {
     "name": "stdout",
     "output_type": "stream",
     "text": [
      "INFO:tensorflow:Unsupported signature for serialization: ((TensorSpec(shape=(10,), dtype=tf.float32, name='gradient'), <tensorflow.python.framework.func_graph.UnknownArgument object at 0x7fd8aa1aca50>, 140569381899520), {}).\n"
     ]
    },
    {
     "name": "stderr",
     "output_type": "stream",
     "text": [
      "INFO:tensorflow:Unsupported signature for serialization: ((TensorSpec(shape=(10,), dtype=tf.float32, name='gradient'), <tensorflow.python.framework.func_graph.UnknownArgument object at 0x7fd8aa1aca50>, 140569381899520), {}).\n"
     ]
    },
    {
     "name": "stdout",
     "output_type": "stream",
     "text": [
      "INFO:tensorflow:Unsupported signature for serialization: ((TensorSpec(shape=(784, 128), dtype=tf.float32, name='gradient'), <tensorflow.python.framework.func_graph.UnknownArgument object at 0x7fd8f07337d0>, 140568542942896), {}).\n"
     ]
    },
    {
     "name": "stderr",
     "output_type": "stream",
     "text": [
      "INFO:tensorflow:Unsupported signature for serialization: ((TensorSpec(shape=(784, 128), dtype=tf.float32, name='gradient'), <tensorflow.python.framework.func_graph.UnknownArgument object at 0x7fd8f07337d0>, 140568542942896), {}).\n"
     ]
    },
    {
     "name": "stdout",
     "output_type": "stream",
     "text": [
      "INFO:tensorflow:Unsupported signature for serialization: ((TensorSpec(shape=(128,), dtype=tf.float32, name='gradient'), <tensorflow.python.framework.func_graph.UnknownArgument object at 0x7fd8f0731310>, 140569724008304), {}).\n"
     ]
    },
    {
     "name": "stderr",
     "output_type": "stream",
     "text": [
      "INFO:tensorflow:Unsupported signature for serialization: ((TensorSpec(shape=(128,), dtype=tf.float32, name='gradient'), <tensorflow.python.framework.func_graph.UnknownArgument object at 0x7fd8f0731310>, 140569724008304), {}).\n"
     ]
    },
    {
     "name": "stdout",
     "output_type": "stream",
     "text": [
      "INFO:tensorflow:Unsupported signature for serialization: ((TensorSpec(shape=(128, 10), dtype=tf.float32, name='gradient'), <tensorflow.python.framework.func_graph.UnknownArgument object at 0x7fd8aa1bd790>, 140568543029456), {}).\n"
     ]
    },
    {
     "name": "stderr",
     "output_type": "stream",
     "text": [
      "INFO:tensorflow:Unsupported signature for serialization: ((TensorSpec(shape=(128, 10), dtype=tf.float32, name='gradient'), <tensorflow.python.framework.func_graph.UnknownArgument object at 0x7fd8aa1bd790>, 140568543029456), {}).\n"
     ]
    },
    {
     "name": "stdout",
     "output_type": "stream",
     "text": [
      "INFO:tensorflow:Unsupported signature for serialization: ((TensorSpec(shape=(10,), dtype=tf.float32, name='gradient'), <tensorflow.python.framework.func_graph.UnknownArgument object at 0x7fd8aa1aca50>, 140569381899520), {}).\n"
     ]
    },
    {
     "name": "stderr",
     "output_type": "stream",
     "text": [
      "INFO:tensorflow:Unsupported signature for serialization: ((TensorSpec(shape=(10,), dtype=tf.float32, name='gradient'), <tensorflow.python.framework.func_graph.UnknownArgument object at 0x7fd8aa1aca50>, 140569381899520), {}).\n"
     ]
    },
    {
     "name": "stdout",
     "output_type": "stream",
     "text": [
      "INFO:tensorflow:Assets written to: mnist.model/assets\n"
     ]
    },
    {
     "name": "stderr",
     "output_type": "stream",
     "text": [
      "INFO:tensorflow:Assets written to: mnist.model/assets\n"
     ]
    }
   ],
   "source": [
    "model.save('mnist.model')\n"
   ]
  },
  {
   "cell_type": "markdown",
   "id": "c789e5b4-5757-46c0-82f0-29c281ddc483",
   "metadata": {},
   "source": [
    "<h3>Use the model</h3>"
   ]
  },
  {
   "cell_type": "code",
   "execution_count": 29,
   "id": "93cabae3-6920-48f5-a17c-3bd76ec4cac7",
   "metadata": {},
   "outputs": [
    {
     "name": "stdout",
     "output_type": "stream",
     "text": [
      "1/1 [==============================] - 0s 21ms/step\n"
     ]
    }
   ],
   "source": [
    "loaded_model = tf.keras.models.load_model('mnist.model')\n",
    "single_test_sample = np.expand_dims(x_test[5], axis=0)\n",
    "\n",
    "predictions = loaded_model.predict([single_test_sample])"
   ]
  },
  {
   "cell_type": "code",
   "execution_count": 30,
   "id": "2977de7f-6f81-4346-92c9-b0bc33db215d",
   "metadata": {},
   "outputs": [
    {
     "name": "stdout",
     "output_type": "stream",
     "text": [
      "1\n"
     ]
    }
   ],
   "source": [
    "import numpy as np\n",
    "print(np.argmax(predictions[0]))"
   ]
  },
  {
   "cell_type": "code",
   "execution_count": 31,
   "id": "a79929c2-6588-495c-829f-19aaf72177bd",
   "metadata": {},
   "outputs": [
    {
     "data": {
      "text/plain": [
       "[]"
      ]
     },
     "execution_count": 31,
     "metadata": {},
     "output_type": "execute_result"
    },
    {
     "data": {
      "image/png": "[encoded data removed]",
      "text/plain": [
       "<Figure size 640x480 with 1 Axes>"
      ]
     },
     "metadata": {},
     "output_type": "display_data"
    }
   ],
   "source": [
    "plt.imshow(single_test_sample[0])\n",
    "plt.plot()"
   ]
  }
 ],
 "metadata": {
  "kernelspec": {
   "display_name": "Python 3 (ipykernel)",
   "language": "python",
   "name": "python3"
  },
  "language_info": {
   "codemirror_mode": {
    "name": "ipython",
    "version": 3
   },
   "file_extension": ".py",
   "mimetype": "text/x-python",
   "name": "python",
   "nbconvert_exporter": "python",
   "pygments_lexer": "ipython3",
   "version": "3.11.2"
  }
 },
 "nbformat": 4,
 "nbformat_minor": 5
}
